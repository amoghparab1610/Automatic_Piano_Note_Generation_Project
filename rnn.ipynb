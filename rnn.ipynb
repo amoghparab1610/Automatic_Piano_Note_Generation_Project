{
 "cells": [
  {
   "cell_type": "code",
   "execution_count": 49,
   "id": "1cbc6711",
   "metadata": {},
   "outputs": [],
   "source": [
    "import os\n",
    "import matplotlib.pyplot as plt\n",
    "import numpy as np\n",
    "import tensorflow as tf\n",
    "from tensorflow import keras\n",
    "from tensorflow.keras.models import Sequential\n",
    "from tensorflow.keras.layers import Dense, Dropout, SimpleRNN\n",
    "import json"
   ]
  },
  {
   "cell_type": "markdown",
   "id": "d45b7ace",
   "metadata": {},
   "source": [
    "## PATH TO SAMPLE, TRAINING AND TEST DATA"
   ]
  },
  {
   "cell_type": "code",
   "execution_count": 50,
   "id": "acccb271",
   "metadata": {},
   "outputs": [],
   "source": [
    "MUSIC_TRAIN_PATH = 'music/train/maestro-v3.0.0'\n",
    "MUSIC_TEST_PATH = 'music/test/maestro-v3.0.0'\n",
    "MUSIC_SAMPLE_PATH = 'music/sample'\n",
    "JSON_DATA_FILE = 'processed_data.json'"
   ]
  },
  {
   "cell_type": "markdown",
   "id": "c43b5670",
   "metadata": {},
   "source": [
    "## MODEL PARAMETERS"
   ]
  },
  {
   "cell_type": "code",
   "execution_count": 51,
   "id": "cb93b3d1",
   "metadata": {},
   "outputs": [],
   "source": [
    "RNN_CELL_SIZE = 128\n",
    "BATCH_SIZE = 1\n",
    "LEARNING_RATE = 1e-3\n",
    "NUM_EPOCHS = 10\n",
    "DECAY_RATE = 1e-5\n",
    "LOSS_FN = 'categorical_crossentropy'\n",
    "METRICS = ['accuracy']"
   ]
  },
  {
   "cell_type": "markdown",
   "id": "1f086a35",
   "metadata": {},
   "source": [
    "## LOAD DATA AND PARAMETERS FROM JSON FILE"
   ]
  },
  {
   "cell_type": "code",
   "execution_count": 42,
   "id": "2b43e922",
   "metadata": {},
   "outputs": [],
   "source": [
    "data = None\n",
    "with open(os.path.join(MUSIC_SAMPLE_PATH, JSON_DATA_FILE)) as json_data_file:\n",
    "    data = json.loads(json.load(json_data_file))"
   ]
  },
  {
   "cell_type": "code",
   "execution_count": 43,
   "id": "d334609c",
   "metadata": {},
   "outputs": [],
   "source": [
    "input = np.array(data['input'])\n",
    "output = np.array(data['output'])\n",
    "NUM_UNIQUE_NOTES = data['num_unique_notes']\n",
    "KEY_FPS = data['key_fps']\n",
    "HOP_LENGTH = data['hop_length']\n",
    "WINDOW_SIZE_IN_KEYS = data['windows_size_in_keys']\n",
    "SAMPLE_RATE = KEY_FPS * HOP_LENGTH\n",
    "FRAME_SIZE = WINDOW_SIZE_IN_KEYS * HOP_LENGTH\n",
    "MAX_PIANO_FREQ = data['max_piano_freq']"
   ]
  },
  {
   "cell_type": "code",
   "execution_count": 44,
   "id": "d7240abc",
   "metadata": {},
   "outputs": [
    {
     "name": "stdout",
     "output_type": "stream",
     "text": [
      "(1, 15514, 8192)\n",
      "(1, 15514)\n",
      "1872\n",
      "[0 0 0 ... 0 0 0]\n"
     ]
    }
   ],
   "source": [
    "print(input.shape)\n",
    "print(output.shape)"
   ]
  },
  {
   "cell_type": "markdown",
   "id": "f1102aca",
   "metadata": {},
   "source": [
    "## CONVERT OUTPUT LABEL AT EACH TIME-STEP TO ONE-HOT ENCODING"
   ]
  },
  {
   "cell_type": "code",
   "execution_count": 45,
   "id": "c3f3dad0",
   "metadata": {},
   "outputs": [],
   "source": [
    "output_one_hot = []\n",
    "for sample in range(output.shape[0]):\n",
    "    sample_output = output[sample,:]\n",
    "    sample_output_one_hot = np.zeros((sample_output.size, sample_output.max()+1))\n",
    "    sample_output_one_hot[np.arange(sample_output.size), sample_output] = 1\n",
    "    output_one_hot.append(sample_output_one_hot)\n",
    "output = np.array(output_one_hot)"
   ]
  },
  {
   "cell_type": "markdown",
   "id": "d032600c",
   "metadata": {},
   "source": [
    "## SPECIFY MODEL ARCHITECTURE"
   ]
  },
  {
   "cell_type": "code",
   "execution_count": 46,
   "id": "defa2141",
   "metadata": {},
   "outputs": [
    {
     "name": "stdout",
     "output_type": "stream",
     "text": [
      "Model: \"sequential_2\"\n",
      "_________________________________________________________________\n",
      " Layer (type)                Output Shape              Param #   \n",
      "=================================================================\n",
      " simple_rnn_2 (SimpleRNN)    (1, None, 128)            1065088   \n",
      "                                                                 \n",
      " dense_2 (Dense)             (1, None, 1872)           241488    \n",
      "                                                                 \n",
      "=================================================================\n",
      "Total params: 1,306,576\n",
      "Trainable params: 1,306,576\n",
      "Non-trainable params: 0\n",
      "_________________________________________________________________\n"
     ]
    }
   ],
   "source": [
    "model = Sequential()\n",
    "model.add(SimpleRNN(RNN_CELL_SIZE, activation='relu', return_sequences=True, input_shape=(None, MAX_PIANO_FREQ), stateful=True,\n",
    "                   batch_input_shape=(BATCH_SIZE, None, MAX_PIANO_FREQ)))\n",
    "model.add(Dense(NUM_UNIQUE_NOTES, activation='softmax'))\n",
    "model.build()\n",
    "model.summary()"
   ]
  },
  {
   "cell_type": "markdown",
   "id": "1b70dbb4",
   "metadata": {},
   "source": [
    "## CHOOSE OPTIMIZER AND COMPILE MODEL"
   ]
  },
  {
   "cell_type": "code",
   "execution_count": 47,
   "id": "abf57a33",
   "metadata": {},
   "outputs": [],
   "source": [
    "optimizer = keras.optimizers.Adam(learning_rate=LEARNING_RATE, decay=DECAY_RATE)\n",
    "model.compile(loss=LOSS_FN, optimizer=optimizer, metrics=METRICS)"
   ]
  },
  {
   "cell_type": "markdown",
   "id": "59e360cd",
   "metadata": {},
   "source": [
    "## TRAIN MODEL"
   ]
  },
  {
   "cell_type": "code",
   "execution_count": 52,
   "id": "cdb1da8a",
   "metadata": {},
   "outputs": [],
   "source": [
    "# model.fit(input, output, epochs=NUM_EPOCHS, validation_data=(input, output))"
   ]
  },
  {
   "cell_type": "markdown",
   "id": "cc6a74aa",
   "metadata": {},
   "source": [
    "## EVALUATE MODEL AND MAKE PREDICTION"
   ]
  },
  {
   "cell_type": "code",
   "execution_count": null,
   "id": "74091653",
   "metadata": {},
   "outputs": [],
   "source": []
  },
  {
   "cell_type": "markdown",
   "id": "45d1881b",
   "metadata": {},
   "source": [
    "## CONVERT PREDICTION TO MIDI"
   ]
  }
 ],
 "metadata": {
  "kernelspec": {
   "display_name": "Python 3 (ipykernel)",
   "language": "python",
   "name": "python3"
  },
  "language_info": {
   "codemirror_mode": {
    "name": "ipython",
    "version": 3
   },
   "file_extension": ".py",
   "mimetype": "text/x-python",
   "name": "python",
   "nbconvert_exporter": "python",
   "pygments_lexer": "ipython3",
   "version": "3.8.12"
  }
 },
 "nbformat": 4,
 "nbformat_minor": 5
}
