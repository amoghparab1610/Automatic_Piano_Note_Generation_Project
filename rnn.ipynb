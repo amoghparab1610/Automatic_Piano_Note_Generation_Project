{
  "cells": [
    {
      "cell_type": "markdown",
      "id": "e6cca795",
      "metadata": {
        "id": "e6cca795"
      },
      "source": [
        "## IMPORT LIBRARIES"
      ]
    },
    {
      "cell_type": "code",
      "execution_count": 1,
      "id": "Xi6Dge_rlSor",
      "metadata": {
        "colab": {
          "base_uri": "https://localhost:8080/"
        },
        "id": "Xi6Dge_rlSor",
        "outputId": "21808da3-369e-426f-8eec-c09cfabd1ad1"
      },
      "outputs": [
        {
          "name": "stderr",
          "output_type": "stream",
          "text": [
            "UsageError: Line magic function `%tensorflow_version` not found.\n"
          ]
        }
      ],
      "source": [
        "%tensorflow_version 2.x\n",
        "import tensorflow as tf\n",
        "device_name = tf.test.gpu_device_name()\n",
        "if device_name != '/device:GPU:0':\n",
        "  raise SystemError('GPU device not found')\n",
        "print('Found GPU at: {}'.format(device_name))"
      ]
    },
    {
      "cell_type": "code",
      "execution_count": 3,
      "id": "034622c8",
      "metadata": {
        "id": "034622c8"
      },
      "outputs": [],
      "source": [
        "import os\n",
        "import matplotlib.pyplot as plt\n",
        "import numpy as np\n",
        "from tensorflow import keras\n",
        "from tensorflow.keras.models import Sequential\n",
        "from tensorflow.keras.layers import Dense, SimpleRNN\n",
        "import IPython.display as ipd\n",
        "import json\n",
        "import pretty_midi\n",
        "from google.cloud import storage\n",
        "from google.oauth2 import service_account"
      ]
    },
    {
      "cell_type": "markdown",
      "id": "7e227a63",
      "metadata": {
        "id": "7e227a63"
      },
      "source": [
        "## PATH TO SAMPLE, TRAINING AND TEST DATA"
      ]
    },
    {
      "cell_type": "code",
      "execution_count": 4,
      "id": "e33a055e",
      "metadata": {
        "id": "e33a055e"
      },
      "outputs": [],
      "source": [
        "MUSIC_TEST_OUTPUT = 'output'\n",
        "MUSIC_SAMPLE_PATH = 'sample'\n",
        "JSON_DATA_FILE = 'processed_data.json'\n",
        "META_DATA_FILE = 'meta_data.json'\n",
        "BUCKET_NAME = \"bucket-piano-data\"\n",
        "MUSIC_TRAIN_PATH = 'gs://{}/train'.format(BUCKET_NAME)\n",
        "MUSIC_TEST_PATH = 'gs://{}/{}'.format(BUCKET_NAME, META_DATA_FILE)\n",
        "MUSIC_VALIDATION_PATH = 'gs://{}/validation'.format(BUCKET_NAME)\n",
        "META_DATA_PATH = 'gs://{}/train'.format(BUCKET_NAME)"
      ]
    },
    {
      "cell_type": "markdown",
      "id": "c3bbaa3b",
      "metadata": {
        "id": "c3bbaa3b"
      },
      "source": [
        "## MODEL PARAMETERS"
      ]
    },
    {
      "cell_type": "code",
      "execution_count": 5,
      "id": "8e2d7b6f",
      "metadata": {
        "id": "8e2d7b6f"
      },
      "outputs": [],
      "source": [
        "RNN_CELL_SIZE = 256\n",
        "BATCH_SIZE = 32\n",
        "LEARNING_RATE = 1e-3\n",
        "NUM_EPOCHS = 5\n",
        "DECAY_RATE = 1e-5\n",
        "LOSS_FN = 'binary_crossentropy'\n",
        "METRICS = ['accuracy']\n",
        "DROPOUT_RATE = 0.2"
      ]
    },
    {
      "cell_type": "markdown",
      "id": "9c900ba7",
      "metadata": {
        "id": "9c900ba7"
      },
      "source": [
        "## LOAD TRAINING DATA"
      ]
    },
    {
      "cell_type": "code",
      "execution_count": 6,
      "id": "038fd2cb",
      "metadata": {
        "id": "038fd2cb"
      },
      "outputs": [],
      "source": [
        "credentials = service_account.Credentials.from_service_account_file('piano-key-generation.json')\n",
        "storage_client = storage.Client(project='piano-key-generation', credentials=credentials)\n",
        "bucket = storage_client.get_bucket('bucket-piano-data')"
      ]
    },
    {
      "cell_type": "code",
      "execution_count": 7,
      "id": "8ae0a99c",
      "metadata": {
        "id": "8ae0a99c"
      },
      "outputs": [],
      "source": [
        "blob = bucket.get_blob('meta_data.json') \n",
        "meta_data = json.loads(blob.download_as_string())"
      ]
    },
    {
      "cell_type": "code",
      "execution_count": 8,
      "id": "ccb3deec",
      "metadata": {
        "id": "ccb3deec"
      },
      "outputs": [],
      "source": [
        "blob = bucket.get_blob('maestro-v3.0.0.json') \n",
        "file_data = json.loads(blob.download_as_string())"
      ]
    },
    {
      "cell_type": "markdown",
      "id": "8ae2858f",
      "metadata": {
        "id": "8ae2858f"
      },
      "source": [
        "## AUDIO PARAMETERS"
      ]
    },
    {
      "cell_type": "code",
      "execution_count": 9,
      "id": "fed08b74",
      "metadata": {
        "id": "fed08b74"
      },
      "outputs": [],
      "source": [
        "NUM_UNIQUE_NOTES = meta_data['num_unique_notes']\n",
        "KEY_FPS = meta_data['key_fps']\n",
        "HOP_LENGTH = meta_data['hop_length']\n",
        "WINDOW_SIZE_IN_KEYS = meta_data['windows_size_in_keys']\n",
        "SAMPLE_RATE = KEY_FPS * HOP_LENGTH\n",
        "FRAME_SIZE = WINDOW_SIZE_IN_KEYS * HOP_LENGTH\n",
        "MAX_PIANO_FREQ = meta_data['max_piano_freq']\n",
        "SEQ_DURATION_SECS = meta_data['seq_length_in_mins']*60\n",
        "SEQ_LENGTH = meta_data['seq_length']//5\n",
        "NUM_UNIQUE_KEYS = 128\n"
      ]
    },
    {
      "cell_type": "code",
      "execution_count": 10,
      "id": "7ea09978",
      "metadata": {
        "id": "7ea09978"
      },
      "outputs": [],
      "source": [
        "notes_to_token = meta_data['notes_to_tokens_dict']\n",
        "token_to_notes = meta_data['tokens_to_notes_dict']\n",
        "token_to_notes['0']='0'"
      ]
    },
    {
      "cell_type": "markdown",
      "id": "e66395ed",
      "metadata": {
        "id": "e66395ed"
      },
      "source": [
        "## GET FILENAMES"
      ]
    },
    {
      "cell_type": "code",
      "execution_count": 11,
      "id": "a4efa790",
      "metadata": {
        "id": "a4efa790"
      },
      "outputs": [],
      "source": [
        "def get_file_names(file_data, bucket, instance_type='train', seq_length=SEQ_DURATION_SECS):\n",
        "    file_names = []\n",
        "    for blob in bucket.list_blobs(prefix=instance_type):\n",
        "        blob = bucket.get_blob(blob.name)\n",
        "        if blob is not None:\n",
        "            file_names.append(blob.name)\n",
        "    return file_names"
      ]
    },
    {
      "cell_type": "code",
      "execution_count": 12,
      "id": "089f6f98",
      "metadata": {
        "id": "089f6f98"
      },
      "outputs": [],
      "source": [
        "train_file_names = get_file_names(file_data, bucket, 'train', SEQ_DURATION_SECS)\n",
        "test_file_names = get_file_names(file_data, bucket, 'test', SEQ_DURATION_SECS)\n",
        "validation_file_names = get_file_names(file_data, bucket, 'validation', SEQ_DURATION_SECS)"
      ]
    },
    {
      "cell_type": "code",
      "execution_count": null,
      "id": "16784664",
      "metadata": {
        "colab": {
          "base_uri": "https://localhost:8080/"
        },
        "id": "16784664",
        "outputId": "38fe8d4f-fdf7-4275-db20-66d4d3b881ee"
      },
      "outputs": [],
      "source": [
        "print(len(train_file_names))\n",
        "print(len(test_file_names))\n",
        "print(len(validation_file_names))"
      ]
    },
    {
      "cell_type": "markdown",
      "id": "249adf40",
      "metadata": {
        "id": "249adf40"
      },
      "source": [
        "## Define Custom Data Generator"
      ]
    },
    {
      "cell_type": "code",
      "execution_count": 37,
      "id": "69c7f605",
      "metadata": {
        "id": "69c7f605"
      },
      "outputs": [],
      "source": [
        "class CustomDataGenerator(keras.utils.Sequence):\n",
        "    def __init__(self, bucket, file_names, token_to_notes, meta_data=meta_data, \n",
        "                    batch_size=BATCH_SIZE, num_unique_keys=NUM_UNIQUE_KEYS, seq_length=SEQ_LENGTH):\n",
        "        self.bucket = bucket\n",
        "        self.batch_size = batch_size\n",
        "        self.meta_data = meta_data\n",
        "        self.num_samples = len(file_names)\n",
        "        self.file_names = file_names\n",
        "        self.num_unique_keys = num_unique_keys\n",
        "        self.token_to_notes = token_to_notes\n",
        "        self.seq_length = SEQ_LENGTH\n",
        "        \n",
        "    def __len__(self):\n",
        "        return (np.ceil(self.num_samples / float(self.batch_size))).astype(np.int)\n",
        "    \n",
        "    def convert_label_to_binary(self, output_labels):\n",
        "        output_binary = []\n",
        "        for sample in range(output_labels.shape[0]):\n",
        "            sample_output = output_labels[sample,:]\n",
        "            sample_output_binary = np.zeros((sample_output.size, self.num_unique_keys))\n",
        "            for time_step in range(sample_output.size):\n",
        "                notes_at_time_step = [int(note) for note in self.token_to_notes[str(sample_output[time_step])].split(',')]\n",
        "                for note in notes_at_time_step:\n",
        "                    sample_output_binary[time_step, note]=1\n",
        "            output_binary.append(sample_output_binary)\n",
        "        output = np.array(output_binary)\n",
        "        return np.array(output_binary)\n",
        "    \n",
        "    def __getitem__(self, idx):\n",
        "        batch_x = []\n",
        "        batch_y = []\n",
        "        start_idx = self.batch_size * idx\n",
        "        for file in self.file_names[start_idx:start_idx+self.batch_size]:\n",
        "            blob = bucket.get_blob(file)\n",
        "            json_data = json.loads(json.loads(blob.download_as_string()))\n",
        "            batch_x.append(json_data['input'])\n",
        "            batch_y.append(json_data['output'])\n",
        "        return np.array(batch_x), self.convert_label_to_binary(np.array(batch_y))"
      ]
    },
    {
      "cell_type": "code",
      "execution_count": 38,
      "id": "fcf3deea",
      "metadata": {
        "id": "fcf3deea"
      },
      "outputs": [],
      "source": [
        "training_batch_generator = CustomDataGenerator(bucket, train_file_names, token_to_notes)\n",
        "validation_batch_generator = CustomDataGenerator(bucket, validation_file_names, token_to_notes)"
      ]
    },
    {
      "cell_type": "markdown",
      "id": "81adfa47",
      "metadata": {
        "id": "81adfa47"
      },
      "source": [
        "## A SINGLE BASIC RNN CELL"
      ]
    },
    {
      "cell_type": "code",
      "execution_count": 39,
      "id": "972f622b",
      "metadata": {
        "colab": {
          "base_uri": "https://localhost:8080/",
          "height": 34
        },
        "id": "972f622b",
        "outputId": "49acbf15-c806-4cd6-9cc9-ecda4e74e974"
      },
      "outputs": [
        {
          "data": {
            "image/png": "images/rnn/vanillapn",
            "text/plain": [
              "<IPython.core.display.Image object>"
            ]
          },
          "execution_count": 39,
          "metadata": {},
          "output_type": "execute_result"
        }
      ],
      "source": [
        "ipd.Image(\"images/rnn_vanilla.png\")"
      ]
    },
    {
      "cell_type": "markdown",
      "id": "1ced244a",
      "metadata": {
        "id": "1ced244a"
      },
      "source": [
        "## SPECIFY MODEL ARCHITECTURE"
      ]
    },
    {
      "cell_type": "code",
      "execution_count": 40,
      "id": "8eefb48f",
      "metadata": {
        "colab": {
          "base_uri": "https://localhost:8080/"
        },
        "id": "8eefb48f",
        "outputId": "e267285e-0fa4-4d99-848e-a581763e9134"
      },
      "outputs": [
        {
          "name": "stdout",
          "output_type": "stream",
          "text": [
            "Model: \"sequential\"\n",
            "_________________________________________________________________\n",
            " Layer (type)                Output Shape              Param #   \n",
            "=================================================================\n",
            " simple_rnn (SimpleRNN)      (32, 2400, 256)           590080    \n",
            "                                                                 \n",
            " dense (Dense)               (32, 2400, 128)           32896     \n",
            "                                                                 \n",
            "=================================================================\n",
            "Total params: 622,976\n",
            "Trainable params: 622,976\n",
            "Non-trainable params: 0\n",
            "_________________________________________________________________\n"
          ]
        }
      ],
      "source": [
        "model = Sequential()\n",
        "model.add(SimpleRNN(RNN_CELL_SIZE, activation='relu', return_sequences=True, input_shape=(SEQ_LENGTH, MAX_PIANO_FREQ), stateful=True,\n",
        "                   batch_input_shape=(BATCH_SIZE, SEQ_LENGTH, MAX_PIANO_FREQ)))\n",
        "# model.add(Dropout(DROPOUT_RATE))\n",
        "model.add(Dense(NUM_UNIQUE_KEYS))\n",
        "model.build()\n",
        "model.summary()"
      ]
    },
    {
      "cell_type": "markdown",
      "id": "e655bb0f",
      "metadata": {
        "id": "e655bb0f"
      },
      "source": [
        "## CHOOSE OPTIMIZER AND COMPILE MODEL"
      ]
    },
    {
      "cell_type": "code",
      "execution_count": 41,
      "id": "2dc1ac33",
      "metadata": {
        "id": "2dc1ac33"
      },
      "outputs": [],
      "source": [
        "optimizer = keras.optimizers.Adam(learning_rate=LEARNING_RATE, decay=DECAY_RATE)\n",
        "model.compile(loss=LOSS_FN, optimizer=optimizer, metrics=METRICS)"
      ]
    },
    {
      "cell_type": "markdown",
      "id": "2571dd1f",
      "metadata": {
        "id": "2571dd1f"
      },
      "source": [
        "## TRAIN MODEL"
      ]
    },
    {
      "cell_type": "code",
      "execution_count": null,
      "id": "a440b613",
      "metadata": {
        "colab": {
          "base_uri": "https://localhost:8080/"
        },
        "id": "a440b613",
        "outputId": "36222b8b-8c6a-4c11-a5a8-fbd7373ba6fe"
      },
      "outputs": [
        {
          "name": "stderr",
          "output_type": "stream",
          "text": [
            "/usr/local/lib/python3.7/dist-packages/ipykernel_launcher.py:1: UserWarning: `Model.fit_generator` is deprecated and will be removed in a future version. Please use `Model.fit`, which supports generators.\n",
            "  \"\"\"Entry point for launching an IPython kernel.\n"
          ]
        }
      ],
      "source": [
        "model.fit_generator(generator=training_batch_generator, epochs=NUM_EPOCHS, validation_data=validation_batch_generator)"
      ]
    },
    {
      "cell_type": "markdown",
      "id": "dfb8d971",
      "metadata": {
        "id": "dfb8d971"
      },
      "source": [
        "## EVALUATE MODEL AND MAKE PREDICTION"
      ]
    },
    {
      "cell_type": "code",
      "execution_count": null,
      "id": "5ede46ec",
      "metadata": {
        "id": "5ede46ec"
      },
      "outputs": [],
      "source": [
        "scores = model.evaluate(X_test, y_test, verbose=0)\n",
        "print(\"Accuracy on test data: %.2f%%\" % (scores[1]*100))"
      ]
    },
    {
      "cell_type": "code",
      "execution_count": null,
      "id": "bfb1322d",
      "metadata": {
        "id": "bfb1322d"
      },
      "outputs": [],
      "source": [
        "y_predict = model.predict(X_test)\n",
        "print(y_predict.shape)"
      ]
    },
    {
      "cell_type": "markdown",
      "id": "a40d7869",
      "metadata": {
        "id": "a40d7869"
      },
      "source": [
        "## CONVERT PREDICTION TO MIDI"
      ]
    },
    {
      "cell_type": "code",
      "execution_count": null,
      "id": "d63de701",
      "metadata": {
        "id": "d63de701"
      },
      "outputs": [],
      "source": [
        "def convert_prediction_to_midi(indx, output, token_to_notes=test_token_to_notes, note_vel_mean_var=test_note_velocity_mean_var):\n",
        "    assert (output.shape[-1] == NUM_UNIQUE_NOTES)\n",
        "    notes_seq = [token_to_notes[str(x)] for x in output.argmax(1)]\n",
        "    instrument = pretty_midi.Instrument(0, name='piano')\n",
        "    note_details = {}\n",
        "    pm = pretty_midi.PrettyMIDI()\n",
        "    \n",
        "    for index, note in enumerate(notes_seq):\n",
        "        if note != '':\n",
        "            notes = note.split(',')\n",
        "            for i in notes:\n",
        "                note_vel = np.random.normal(note_vel_mean_var[indx][0][int(i)], note_vel_mean_var[indx][1][int(i)])\n",
        "                if int(i) not in note_details:\n",
        "                    note_details[int(i)]=[[index], [index], [note_vel]]\n",
        "                else:\n",
        "                    if note_details[int(i)][1][-1]==(index-1):\n",
        "                        note_details[int(i)][1][-1]=index\n",
        "                    else:\n",
        "                        note_details[int(i)][0].append(index)\n",
        "                        note_details[int(i)][1].append(index)\n",
        "                        note_details[int(i)][2].append(note_vel)\n",
        "\n",
        "    for note in note_details:\n",
        "        for start_time, end_time, note_velocity in zip(note_details[note][0], note_details[note][1], note_details[note][2]):\n",
        "            pretty_note = pretty_midi.Note(\n",
        "                velocity=int(note_velocity),\n",
        "                pitch=note,\n",
        "                start=start_time/KEY_FPS,\n",
        "                end=end_time/KEY_FPS\n",
        "            )\n",
        "            instrument.notes.append(pretty_note)\n",
        "    \n",
        "    instrument.notes.sort(key=lambda x: x.start)\n",
        "    pm.instruments.append(instrument)\n",
        "    return pm"
      ]
    },
    {
      "cell_type": "code",
      "execution_count": null,
      "id": "1b563dab",
      "metadata": {
        "id": "1b563dab"
      },
      "outputs": [],
      "source": [
        "file_indx = 0\n",
        "pmidi = convert_prediction_to_midi(file_indx, y_predict[file_indx])\n",
        "pmidi.write(os.path.join(MUSIC_TEST_OUTPUT, test_data['filenames'][file_indx]+'.midi'))"
      ]
    },
    {
      "cell_type": "code",
      "execution_count": null,
      "id": "d8852ae6",
      "metadata": {
        "id": "d8852ae6"
      },
      "outputs": [],
      "source": []
    }
  ],
  "metadata": {
    "accelerator": "GPU",
    "colab": {
      "collapsed_sections": [],
      "name": "rnn.ipynb",
      "provenance": []
    },
    "interpreter": {
      "hash": "3e5898ad4a914bf2acec0b292bef68fbc748d19e46d5943827819e548f538602"
    },
    "kernelspec": {
      "display_name": "Python 3",
      "language": "python",
      "name": "python3"
    },
    "language_info": {
      "codemirror_mode": {
        "name": "ipython",
        "version": 3
      },
      "file_extension": ".py",
      "mimetype": "text/x-python",
      "name": "python",
      "nbconvert_exporter": "python",
      "pygments_lexer": "ipython3",
      "version": "3.8.12"
    }
  },
  "nbformat": 4,
  "nbformat_minor": 5
}
