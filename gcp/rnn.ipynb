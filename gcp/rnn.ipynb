{
 "cells": [
  {
   "cell_type": "markdown",
   "id": "e6cca795",
   "metadata": {},
   "source": [
    "## IMPORT LIBRARIES"
   ]
  },
  {
   "cell_type": "code",
   "execution_count": 1,
   "id": "034622c8",
   "metadata": {},
   "outputs": [],
   "source": [
    "import os\n",
    "import matplotlib.pyplot as plt\n",
    "import numpy as np\n",
    "import tensorflow as tf\n",
    "from tensorflow import keras\n",
    "from tensorflow.keras.models import Sequential\n",
    "from tensorflow.keras.layers import Dense, SimpleRNN\n",
    "import IPython.display as ipd\n",
    "import json\n",
    "import pretty_midi\n",
    "import fluidsynth\n",
    "from google.cloud import storage\n",
    "from io import BytesIO\n",
    "import pickle"
   ]
  },
  {
   "cell_type": "markdown",
   "id": "7e227a63",
   "metadata": {},
   "source": [
    "## PATH TO SAMPLE, TRAINING AND TEST DATA"
   ]
  },
  {
   "cell_type": "code",
   "execution_count": 2,
   "id": "e33a055e",
   "metadata": {},
   "outputs": [],
   "source": [
    "MUSIC_TEST_OUTPUT = 'output'\n",
    "MUSIC_SAMPLE_PATH = 'sample'\n",
    "JSON_DATA_FILE = 'processed_data.json'\n",
    "META_DATA_FILE = 'meta_data.json'\n",
    "BUCKET_NAME = \"bucket-piano-data\"\n",
    "MUSIC_TRAIN_PATH = 'gs://{}/train'.format(BUCKET_NAME)\n",
    "MUSIC_TEST_PATH = 'gs://{}/{}'.format(BUCKET_NAME, META_DATA_FILE)\n",
    "MUSIC_VALIDATION_PATH = 'gs://{}/validation'.format(BUCKET_NAME)\n",
    "META_DATA_PATH = 'gs://{}/train'.format(BUCKET_NAME)"
   ]
  },
  {
   "cell_type": "markdown",
   "id": "e6bad835",
   "metadata": {},
   "source": [
    "## MODEL PARAMETERS"
   ]
  },
  {
   "cell_type": "code",
   "execution_count": 4,
   "id": "de30ff44",
   "metadata": {},
   "outputs": [],
   "source": [
    "RNN_CELL_SIZE = 128\n",
    "BATCH_SIZE = 32\n",
    "LEARNING_RATE = 1e-3\n",
    "NUM_EPOCHS = 10\n",
    "DECAY_RATE = 1e-5\n",
    "LOSS_FN = 'categorical_crossentropy'\n",
    "METRICS = ['accuracy']\n",
    "DROPOUT_RATE = 0.2"
   ]
  },
  {
   "cell_type": "markdown",
   "id": "9c900ba7",
   "metadata": {},
   "source": [
    "## LOAD TRAINING DATA AND PARAMETERS FROM JSON FILE"
   ]
  },
  {
   "cell_type": "code",
   "execution_count": 5,
   "id": "038fd2cb",
   "metadata": {},
   "outputs": [],
   "source": [
    "storage_client = storage.Client()\n",
    "bucket = storage_client.get_bucket('bucket-piano-data')"
   ]
  },
  {
   "cell_type": "code",
   "execution_count": 6,
   "id": "8ae0a99c",
   "metadata": {},
   "outputs": [],
   "source": [
    "blob = bucket.get_blob('meta_data.json') \n",
    "meta_data = json.loads(blob.download_as_string())"
   ]
  },
  {
   "cell_type": "code",
   "execution_count": 7,
   "id": "b0cbf5ae",
   "metadata": {},
   "outputs": [],
   "source": [
    "class CustomDataGenerator(keras.utils.Sequence):\n",
    "    def __init__(self, prefix, bucket, meta_data=meta_data, batch_size=BATCH_SIZE):\n",
    "        self.prefix = prefix\n",
    "        self.bucket = bucket\n",
    "        self.batch_size = batch_size\n",
    "        self.meta_data = meta_data\n",
    "        self.num_samples = len(bucket.list_blobs(prefix='train'))\n",
    "        \n",
    "    def __len__(self):\n",
    "        return (np.ceil(len(self.num_samples) / float(self.batch_size))).astype(np.int)\n",
    "    \n",
    "    def __getitem__(self, idx):\n",
    "        batch_x = []\n",
    "        batch_y = []\n",
    "        start_idx = self.batch_size * idx\n",
    "        for blob in bucket.list_blobs(prefix='train')[start_idx:start_idx+self.batch_size]:\n",
    "            json_data = json.loads(json.loads(blob.download_as_string()))\n",
    "            batch_x.append(json_data['input'])\n",
    "            batch_y.append(json_data['output'])\n",
    "        return np.array(batch_x), np.array(batch_y)"
   ]
  },
  {
   "cell_type": "code",
   "execution_count": null,
   "id": "e70b60e6",
   "metadata": {},
   "outputs": [],
   "source": [
    "X_train = np.array(X_train)\n",
    "y_train = np.array(y_train)\n",
    "train_note_velocity_mean_var = train_data['note_velocities_mean_var']\n",
    "train_token_to_notes = train_data['tokens_to_notes_dict']\n",
    "print(X_train.shape, y_train.shape)"
   ]
  },
  {
   "cell_type": "code",
   "execution_count": null,
   "id": "179b19ae",
   "metadata": {},
   "outputs": [],
   "source": [
    "X_test = []\n",
    "y_test = []\n",
    "for blob in bucket.list_blobs(prefix='test'):\n",
    "    json_data = json.loads(json.loads(blob.download_as_string()))\n",
    "    X_train.append(json_data['input'])\n",
    "    y_train.append(json_data['output'])\n",
    "    \n",
    "X_test = np.array(X_train)\n",
    "y_test = np.array(y_train)\n",
    "test_note_velocity_mean_var = train_data['note_velocities_mean_var']\n",
    "test_token_to_notes = train_data['tokens_to_notes_dict']"
   ]
  },
  {
   "cell_type": "code",
   "execution_count": null,
   "id": "93b705db",
   "metadata": {},
   "outputs": [],
   "source": [
    "NUM_UNIQUE_NOTES = train_data['num_unique_notes']\n",
    "KEY_FPS = train_data['key_fps']\n",
    "HOP_LENGTH = train_data['hop_length']\n",
    "WINDOW_SIZE_IN_KEYS = train_data['windows_size_in_keys']\n",
    "SAMPLE_RATE = KEY_FPS * HOP_LENGTH\n",
    "FRAME_SIZE = WINDOW_SIZE_IN_KEYS * HOP_LENGTH\n",
    "MAX_PIANO_FREQ = train_data['max_piano_freq']"
   ]
  },
  {
   "cell_type": "code",
   "execution_count": null,
   "id": "490c9e3e",
   "metadata": {},
   "outputs": [],
   "source": [
    "print(X_train.shape)\n",
    "print(y_train.shape)"
   ]
  },
  {
   "cell_type": "markdown",
   "id": "02688d6f",
   "metadata": {},
   "source": [
    "## LOAD TEST DATA"
   ]
  },
  {
   "cell_type": "code",
   "execution_count": null,
   "id": "66c47484",
   "metadata": {},
   "outputs": [],
   "source": [
    "test_data = None\n",
    "with open(os.path.join(MUSIC_SAMPLE_PATH, JSON_DATA_FILE)) as json_data_file:\n",
    "    test_data = json.loads(json.load(json_data_file))\n",
    "\n",
    "X_test = np.array(test_data['input'])\n",
    "y_test = np.array(test_data['output'])\n",
    "test_note_velocity_mean_var = test_data['note_velocities_mean_var']\n",
    "test_token_to_notes = test_data['tokens_to_notes_dict']"
   ]
  },
  {
   "cell_type": "code",
   "execution_count": null,
   "id": "db8e4355",
   "metadata": {},
   "outputs": [],
   "source": [
    "print(X_test.shape)\n",
    "print(y_test.shape)"
   ]
  },
  {
   "cell_type": "markdown",
   "id": "177c9ec3",
   "metadata": {},
   "source": [
    "## CONVERT OUTPUT LABEL AT EACH TIME-STEP TO ONE-HOT ENCODING"
   ]
  },
  {
   "cell_type": "code",
   "execution_count": null,
   "id": "6bc392fe",
   "metadata": {},
   "outputs": [],
   "source": [
    "def convert_label_to_one_hot(output_labels):\n",
    "    output_one_hot = []\n",
    "    for sample in range(output_labels.shape[0]):\n",
    "        sample_output = output_labels[sample,:]\n",
    "        sample_output_one_hot = np.zeros((sample_output.size, sample_output.max()+1))\n",
    "        sample_output_one_hot[np.arange(sample_output.size), sample_output] = 1\n",
    "        output_one_hot.append(sample_output_one_hot)\n",
    "    \n",
    "    return np.array(output_one_hot)"
   ]
  },
  {
   "cell_type": "code",
   "execution_count": null,
   "id": "fe7ed606",
   "metadata": {},
   "outputs": [],
   "source": [
    "y_train = convert_label_to_one_hot(y_train)\n",
    "y_test = convert_label_to_one_hot(y_test)"
   ]
  },
  {
   "cell_type": "markdown",
   "id": "81adfa47",
   "metadata": {},
   "source": [
    "## A SINGLE BASIC RNN CELL"
   ]
  },
  {
   "cell_type": "code",
   "execution_count": null,
   "id": "972f622b",
   "metadata": {},
   "outputs": [],
   "source": [
    "ipd.Image(\"images/rnn_vanilla.png\")"
   ]
  },
  {
   "cell_type": "markdown",
   "id": "1ced244a",
   "metadata": {},
   "source": [
    "## SPECIFY MODEL ARCHITECTURE"
   ]
  },
  {
   "cell_type": "code",
   "execution_count": null,
   "id": "8eefb48f",
   "metadata": {},
   "outputs": [],
   "source": [
    "model = Sequential()\n",
    "model.add(SimpleRNN(RNN_CELL_SIZE, activation='relu', return_sequences=True, input_shape=(None, MAX_PIANO_FREQ), stateful=True,\n",
    "                   batch_input_shape=(BATCH_SIZE, None, MAX_PIANO_FREQ)))\n",
    "# model.add(Dropout(DROPOUT_RATE))\n",
    "model.add(Dense(NUM_UNIQUE_NOTES, activation='softmax'))\n",
    "model.build()\n",
    "model.summary()"
   ]
  },
  {
   "cell_type": "markdown",
   "id": "e655bb0f",
   "metadata": {},
   "source": [
    "## CHOOSE OPTIMIZER AND COMPILE MODEL"
   ]
  },
  {
   "cell_type": "code",
   "execution_count": null,
   "id": "2dc1ac33",
   "metadata": {},
   "outputs": [],
   "source": [
    "optimizer = keras.optimizers.Adam(learning_rate=LEARNING_RATE, decay=DECAY_RATE)\n",
    "model.compile(loss=LOSS_FN, optimizer=optimizer, metrics=METRICS)"
   ]
  },
  {
   "cell_type": "markdown",
   "id": "2571dd1f",
   "metadata": {},
   "source": [
    "## TRAIN MODEL"
   ]
  },
  {
   "cell_type": "code",
   "execution_count": null,
   "id": "a440b613",
   "metadata": {},
   "outputs": [],
   "source": [
    "model.fit(X_train, y_train, epochs=NUM_EPOCHS, batch_size=BATCH_SIZE)"
   ]
  },
  {
   "cell_type": "markdown",
   "id": "dfb8d971",
   "metadata": {},
   "source": [
    "## EVALUATE MODEL AND MAKE PREDICTION"
   ]
  },
  {
   "cell_type": "code",
   "execution_count": null,
   "id": "5ede46ec",
   "metadata": {},
   "outputs": [],
   "source": [
    "scores = model.evaluate(X_test, y_test, verbose=0)\n",
    "print(\"Accuracy on test data: %.2f%%\" % (scores[1]*100))"
   ]
  },
  {
   "cell_type": "code",
   "execution_count": null,
   "id": "bfb1322d",
   "metadata": {},
   "outputs": [],
   "source": [
    "y_predict = model.predict(X_test)\n",
    "print(y_predict.shape)"
   ]
  },
  {
   "cell_type": "markdown",
   "id": "a40d7869",
   "metadata": {},
   "source": [
    "## CONVERT PREDICTION TO MIDI"
   ]
  },
  {
   "cell_type": "code",
   "execution_count": null,
   "id": "d63de701",
   "metadata": {},
   "outputs": [],
   "source": [
    "def convert_prediction_to_midi(indx, output, token_to_notes=test_token_to_notes, note_vel_mean_var=test_note_velocity_mean_var):\n",
    "    assert (output.shape[-1] == NUM_UNIQUE_NOTES)\n",
    "    notes_seq = [token_to_notes[str(x)] for x in output.argmax(1)]\n",
    "    instrument = pretty_midi.Instrument(0, name='piano')\n",
    "    note_details = {}\n",
    "    pm = pretty_midi.PrettyMIDI()\n",
    "    \n",
    "    for index, note in enumerate(notes_seq):\n",
    "        if note != '':\n",
    "            notes = note.split(',')\n",
    "            for i in notes:\n",
    "                note_vel = np.random.normal(note_vel_mean_var[indx][0][int(i)], note_vel_mean_var[indx][1][int(i)])\n",
    "                if int(i) not in note_details:\n",
    "                    note_details[int(i)]=[[index], [index], [note_vel]]\n",
    "                else:\n",
    "                    if note_details[int(i)][1][-1]==(index-1):\n",
    "                        note_details[int(i)][1][-1]=index\n",
    "                    else:\n",
    "                        note_details[int(i)][0].append(index)\n",
    "                        note_details[int(i)][1].append(index)\n",
    "                        note_details[int(i)][2].append(note_vel)\n",
    "\n",
    "    for note in note_details:\n",
    "        for start_time, end_time, note_velocity in zip(note_details[note][0], note_details[note][1], note_details[note][2]):\n",
    "            pretty_note = pretty_midi.Note(\n",
    "                velocity=int(note_velocity),\n",
    "                pitch=note,\n",
    "                start=start_time/KEY_FPS,\n",
    "                end=end_time/KEY_FPS\n",
    "            )\n",
    "            instrument.notes.append(pretty_note)\n",
    "    \n",
    "    instrument.notes.sort(key=lambda x: x.start)\n",
    "    pm.instruments.append(instrument)\n",
    "    return pm"
   ]
  },
  {
   "cell_type": "code",
   "execution_count": null,
   "id": "1b563dab",
   "metadata": {},
   "outputs": [],
   "source": [
    "file_indx = 0\n",
    "pmidi = convert_prediction_to_midi(file_indx, y_predict[file_indx])\n",
    "pmidi.write(os.path.join(MUSIC_TEST_OUTPUT, test_data['filenames'][file_indx]+'.midi'))"
   ]
  },
  {
   "cell_type": "code",
   "execution_count": null,
   "id": "d8852ae6",
   "metadata": {},
   "outputs": [],
   "source": []
  }
 ],
 "metadata": {
  "interpreter": {
   "hash": "3e5898ad4a914bf2acec0b292bef68fbc748d19e46d5943827819e548f538602"
  },
  "kernelspec": {
   "display_name": "Python 3",
   "language": "python",
   "name": "python3"
  },
  "language_info": {
   "codemirror_mode": {
    "name": "ipython",
    "version": 3
   },
   "file_extension": ".py",
   "mimetype": "text/x-python",
   "name": "python",
   "nbconvert_exporter": "python",
   "pygments_lexer": "ipython3",
   "version": "3.7.12"
  }
 },
 "nbformat": 4,
 "nbformat_minor": 5
}
